{
 "cells": [
  {
   "cell_type": "markdown",
   "id": "8d6d9399-ee59-486b-a02b-68c5202737dd",
   "metadata": {
    "tags": []
   },
   "source": [
    "## Create a Neural Network"
   ]
  },
  {
   "cell_type": "markdown",
   "id": "3eec963e-ae95-4b96-95a4-1e6a9ae890a3",
   "metadata": {},
   "source": [
    "### Load the data"
   ]
  },
  {
   "cell_type": "code",
   "execution_count": 1,
   "id": "ee94fa22-fb87-4f7f-bcab-f895eb1dba20",
   "metadata": {},
   "outputs": [],
   "source": [
    "import seaborn as sns\n",
    "df_crashes = sns.load_dataset('car_crashes')"
   ]
  },
  {
   "cell_type": "code",
   "execution_count": 2,
   "id": "9ae18dd1-3ef4-4c6d-8b5d-751a543d5b26",
   "metadata": {},
   "outputs": [
    {
     "data": {
      "text/html": [
       "<div>\n",
       "<style scoped>\n",
       "    .dataframe tbody tr th:only-of-type {\n",
       "        vertical-align: middle;\n",
       "    }\n",
       "\n",
       "    .dataframe tbody tr th {\n",
       "        vertical-align: top;\n",
       "    }\n",
       "\n",
       "    .dataframe thead th {\n",
       "        text-align: right;\n",
       "    }\n",
       "</style>\n",
       "<table border=\"1\" class=\"dataframe\">\n",
       "  <thead>\n",
       "    <tr style=\"text-align: right;\">\n",
       "      <th></th>\n",
       "      <th>total</th>\n",
       "      <th>speeding</th>\n",
       "      <th>alcohol</th>\n",
       "      <th>not_distracted</th>\n",
       "      <th>no_previous</th>\n",
       "      <th>ins_premium</th>\n",
       "      <th>ins_losses</th>\n",
       "      <th>abbrev</th>\n",
       "    </tr>\n",
       "  </thead>\n",
       "  <tbody>\n",
       "    <tr>\n",
       "      <th>0</th>\n",
       "      <td>18.8</td>\n",
       "      <td>7.332</td>\n",
       "      <td>5.640</td>\n",
       "      <td>18.048</td>\n",
       "      <td>15.040</td>\n",
       "      <td>784.55</td>\n",
       "      <td>145.08</td>\n",
       "      <td>AL</td>\n",
       "    </tr>\n",
       "    <tr>\n",
       "      <th>1</th>\n",
       "      <td>18.1</td>\n",
       "      <td>7.421</td>\n",
       "      <td>4.525</td>\n",
       "      <td>16.290</td>\n",
       "      <td>17.014</td>\n",
       "      <td>1053.48</td>\n",
       "      <td>133.93</td>\n",
       "      <td>AK</td>\n",
       "    </tr>\n",
       "    <tr>\n",
       "      <th>2</th>\n",
       "      <td>18.6</td>\n",
       "      <td>6.510</td>\n",
       "      <td>5.208</td>\n",
       "      <td>15.624</td>\n",
       "      <td>17.856</td>\n",
       "      <td>899.47</td>\n",
       "      <td>110.35</td>\n",
       "      <td>AZ</td>\n",
       "    </tr>\n",
       "    <tr>\n",
       "      <th>3</th>\n",
       "      <td>22.4</td>\n",
       "      <td>4.032</td>\n",
       "      <td>5.824</td>\n",
       "      <td>21.056</td>\n",
       "      <td>21.280</td>\n",
       "      <td>827.34</td>\n",
       "      <td>142.39</td>\n",
       "      <td>AR</td>\n",
       "    </tr>\n",
       "    <tr>\n",
       "      <th>4</th>\n",
       "      <td>12.0</td>\n",
       "      <td>4.200</td>\n",
       "      <td>3.360</td>\n",
       "      <td>10.920</td>\n",
       "      <td>10.680</td>\n",
       "      <td>878.41</td>\n",
       "      <td>165.63</td>\n",
       "      <td>CA</td>\n",
       "    </tr>\n",
       "  </tbody>\n",
       "</table>\n",
       "</div>"
      ],
      "text/plain": [
       "   total  speeding  alcohol  not_distracted  no_previous  ins_premium  \\\n",
       "0   18.8     7.332    5.640          18.048       15.040       784.55   \n",
       "1   18.1     7.421    4.525          16.290       17.014      1053.48   \n",
       "2   18.6     6.510    5.208          15.624       17.856       899.47   \n",
       "3   22.4     4.032    5.824          21.056       21.280       827.34   \n",
       "4   12.0     4.200    3.360          10.920       10.680       878.41   \n",
       "\n",
       "   ins_losses abbrev  \n",
       "0      145.08     AL  \n",
       "1      133.93     AK  \n",
       "2      110.35     AZ  \n",
       "3      142.39     AR  \n",
       "4      165.63     CA  "
      ]
     },
     "execution_count": 2,
     "metadata": {},
     "output_type": "execute_result"
    }
   ],
   "source": [
    "df_crashes.head()"
   ]
  },
  {
   "cell_type": "markdown",
   "id": "7f1357c7-0525-4b83-9a06-8b745e765ab5",
   "metadata": {},
   "source": [
    "### Feature Processing"
   ]
  },
  {
   "cell_type": "code",
   "execution_count": 3,
   "id": "42200056-8c65-4415-a0ed-df9e730cd5df",
   "metadata": {},
   "outputs": [
    {
     "data": {
      "text/html": [
       "<div>\n",
       "<style scoped>\n",
       "    .dataframe tbody tr th:only-of-type {\n",
       "        vertical-align: middle;\n",
       "    }\n",
       "\n",
       "    .dataframe tbody tr th {\n",
       "        vertical-align: top;\n",
       "    }\n",
       "\n",
       "    .dataframe thead th {\n",
       "        text-align: right;\n",
       "    }\n",
       "</style>\n",
       "<table border=\"1\" class=\"dataframe\">\n",
       "  <thead>\n",
       "    <tr style=\"text-align: right;\">\n",
       "      <th></th>\n",
       "      <th>speeding</th>\n",
       "      <th>alcohol</th>\n",
       "      <th>not_distracted</th>\n",
       "      <th>no_previous</th>\n",
       "      <th>ins_premium</th>\n",
       "      <th>ins_losses</th>\n",
       "    </tr>\n",
       "  </thead>\n",
       "  <tbody>\n",
       "    <tr>\n",
       "      <th>0</th>\n",
       "      <td>7.332</td>\n",
       "      <td>5.640</td>\n",
       "      <td>18.048</td>\n",
       "      <td>15.040</td>\n",
       "      <td>784.55</td>\n",
       "      <td>145.08</td>\n",
       "    </tr>\n",
       "    <tr>\n",
       "      <th>1</th>\n",
       "      <td>7.421</td>\n",
       "      <td>4.525</td>\n",
       "      <td>16.290</td>\n",
       "      <td>17.014</td>\n",
       "      <td>1053.48</td>\n",
       "      <td>133.93</td>\n",
       "    </tr>\n",
       "    <tr>\n",
       "      <th>2</th>\n",
       "      <td>6.510</td>\n",
       "      <td>5.208</td>\n",
       "      <td>15.624</td>\n",
       "      <td>17.856</td>\n",
       "      <td>899.47</td>\n",
       "      <td>110.35</td>\n",
       "    </tr>\n",
       "    <tr>\n",
       "      <th>3</th>\n",
       "      <td>4.032</td>\n",
       "      <td>5.824</td>\n",
       "      <td>21.056</td>\n",
       "      <td>21.280</td>\n",
       "      <td>827.34</td>\n",
       "      <td>142.39</td>\n",
       "    </tr>\n",
       "    <tr>\n",
       "      <th>4</th>\n",
       "      <td>4.200</td>\n",
       "      <td>3.360</td>\n",
       "      <td>10.920</td>\n",
       "      <td>10.680</td>\n",
       "      <td>878.41</td>\n",
       "      <td>165.63</td>\n",
       "    </tr>\n",
       "  </tbody>\n",
       "</table>\n",
       "</div>"
      ],
      "text/plain": [
       "   speeding  alcohol  not_distracted  no_previous  ins_premium  ins_losses\n",
       "0     7.332    5.640          18.048       15.040       784.55      145.08\n",
       "1     7.421    4.525          16.290       17.014      1053.48      133.93\n",
       "2     6.510    5.208          15.624       17.856       899.47      110.35\n",
       "3     4.032    5.824          21.056       21.280       827.34      142.39\n",
       "4     4.200    3.360          10.920       10.680       878.41      165.63"
      ]
     },
     "execution_count": 3,
     "metadata": {},
     "output_type": "execute_result"
    }
   ],
   "source": [
    "explanatory = df_crashes.drop(columns=['total','abbrev'])\n",
    "target = df_crashes.total\n",
    "explanatory.head()"
   ]
  },
  {
   "cell_type": "markdown",
   "id": "8c92c0ba-8c91-4e80-8a56-7669b292921e",
   "metadata": {},
   "source": [
    "### Create a Model\n",
    "\n",
    "1. Import libraries\n",
    "2. Instantiate\n",
    "3. Add layers & Compile\n",
    "4. Fit\n",
    "5. Evaluate\n",
    "6. Predictions"
   ]
  },
  {
   "cell_type": "code",
   "execution_count": 6,
   "id": "190bee0d-15ba-445b-9b22-ff80ffae7603",
   "metadata": {},
   "outputs": [],
   "source": [
    "from tensorflow.keras import Sequential\n",
    "from tensorflow.keras.layers import Dense"
   ]
  },
  {
   "cell_type": "code",
   "execution_count": 7,
   "id": "724dbfd0-8d52-4851-8f52-d0110ab9b8e9",
   "metadata": {},
   "outputs": [],
   "source": [
    "model_tf = Sequential()"
   ]
  },
  {
   "cell_type": "code",
   "execution_count": 9,
   "id": "735867f6-0488-40fd-8c50-a7ab040b14f2",
   "metadata": {},
   "outputs": [],
   "source": [
    "model_tf.add(Dense(12, input_shape=(6,), activation='relu'))\n",
    "model_tf.add(Dense(8, activation='relu'))\n",
    "model_tf.add(Dense(1, activation='sigmoid'))"
   ]
  },
  {
   "cell_type": "markdown",
   "id": "0a193697-2ec4-4d9b-9646-10e91ae77df7",
   "metadata": {},
   "source": [
    "### Compile keras model"
   ]
  },
  {
   "cell_type": "code",
   "execution_count": 13,
   "id": "74766c6f-8b8a-480b-862d-1371f4483731",
   "metadata": {},
   "outputs": [],
   "source": [
    "model_tf.compile(\n",
    "    optimizer='adam',\n",
    "    loss='binary_crossentropy',\n",
    "    metrics=['accuracy'])"
   ]
  },
  {
   "cell_type": "markdown",
   "id": "80890f5e-393d-4e00-b9ca-0253c6239c88",
   "metadata": {},
   "source": [
    "### Fit the model    "
   ]
  },
  {
   "cell_type": "code",
   "execution_count": 18,
   "id": "d86feab3-edc4-4577-a993-957dbee8b479",
   "metadata": {},
   "outputs": [
    {
     "name": "stdout",
     "output_type": "stream",
     "text": [
      "Epoch 1/30\n",
      "11/11 [==============================] - 0s 2ms/step - loss: -1108913.6250 - accuracy: 0.0000e+00\n",
      "Epoch 2/30\n",
      "11/11 [==============================] - 0s 2ms/step - loss: -1153235.6250 - accuracy: 0.0000e+00\n",
      "Epoch 3/30\n",
      "11/11 [==============================] - 0s 2ms/step - loss: -1198029.7500 - accuracy: 0.0000e+00\n",
      "Epoch 4/30\n",
      "11/11 [==============================] - 0s 2ms/step - loss: -1244042.5000 - accuracy: 0.0000e+00\n",
      "Epoch 5/30\n",
      "11/11 [==============================] - 0s 2ms/step - loss: -1291324.0000 - accuracy: 0.0000e+00\n",
      "Epoch 6/30\n",
      "11/11 [==============================] - 0s 2ms/step - loss: -1340252.3750 - accuracy: 0.0000e+00\n",
      "Epoch 7/30\n",
      "11/11 [==============================] - 0s 2ms/step - loss: -1390524.3750 - accuracy: 0.0000e+00\n",
      "Epoch 8/30\n",
      "11/11 [==============================] - 0s 2ms/step - loss: -1440117.3750 - accuracy: 0.0000e+00\n",
      "Epoch 9/30\n",
      "11/11 [==============================] - 0s 2ms/step - loss: -1490195.8750 - accuracy: 0.0000e+00\n",
      "Epoch 10/30\n",
      "11/11 [==============================] - 0s 2ms/step - loss: -1541841.1250 - accuracy: 0.0000e+00\n",
      "Epoch 11/30\n",
      "11/11 [==============================] - 0s 2ms/step - loss: -1594456.1250 - accuracy: 0.0000e+00\n",
      "Epoch 12/30\n",
      "11/11 [==============================] - 0s 2ms/step - loss: -1649422.3750 - accuracy: 0.0000e+00\n",
      "Epoch 13/30\n",
      "11/11 [==============================] - 0s 2ms/step - loss: -1703822.6250 - accuracy: 0.0000e+00\n",
      "Epoch 14/30\n",
      "11/11 [==============================] - 0s 2ms/step - loss: -1759630.3750 - accuracy: 0.0000e+00\n",
      "Epoch 15/30\n",
      "11/11 [==============================] - 0s 2ms/step - loss: -1819857.2500 - accuracy: 0.0000e+00\n",
      "Epoch 16/30\n",
      "11/11 [==============================] - 0s 2ms/step - loss: -1877541.5000 - accuracy: 0.0000e+00\n",
      "Epoch 17/30\n",
      "11/11 [==============================] - 0s 2ms/step - loss: -1938254.7500 - accuracy: 0.0000e+00\n",
      "Epoch 18/30\n",
      "11/11 [==============================] - 0s 2ms/step - loss: -2000135.2500 - accuracy: 0.0000e+00\n",
      "Epoch 19/30\n",
      "11/11 [==============================] - 0s 2ms/step - loss: -2062012.1250 - accuracy: 0.0000e+00\n",
      "Epoch 20/30\n",
      "11/11 [==============================] - 0s 2ms/step - loss: -2125313.5000 - accuracy: 0.0000e+00\n",
      "Epoch 21/30\n",
      "11/11 [==============================] - 0s 2ms/step - loss: -2189765.2500 - accuracy: 0.0000e+00\n",
      "Epoch 22/30\n",
      "11/11 [==============================] - 0s 2ms/step - loss: -2256001.0000 - accuracy: 0.0000e+00\n",
      "Epoch 23/30\n",
      "11/11 [==============================] - 0s 2ms/step - loss: -2323049.2500 - accuracy: 0.0000e+00\n",
      "Epoch 24/30\n",
      "11/11 [==============================] - 0s 2ms/step - loss: -2390730.2500 - accuracy: 0.0000e+00\n",
      "Epoch 25/30\n",
      "11/11 [==============================] - 0s 2ms/step - loss: -2462860.0000 - accuracy: 0.0000e+00\n",
      "Epoch 26/30\n",
      "11/11 [==============================] - 0s 2ms/step - loss: -2533368.5000 - accuracy: 0.0000e+00\n",
      "Epoch 27/30\n",
      "11/11 [==============================] - 0s 2ms/step - loss: -2605871.0000 - accuracy: 0.0000e+00\n",
      "Epoch 28/30\n",
      "11/11 [==============================] - 0s 2ms/step - loss: -2680258.0000 - accuracy: 0.0000e+00\n",
      "Epoch 29/30\n",
      "11/11 [==============================] - 0s 2ms/step - loss: -2755146.2500 - accuracy: 0.0000e+00\n",
      "Epoch 30/30\n",
      "11/11 [==============================] - 0s 2ms/step - loss: -2828450.5000 - accuracy: 0.0000e+00\n"
     ]
    },
    {
     "data": {
      "text/plain": [
       "<keras.callbacks.History at 0x17a8237a280>"
      ]
     },
     "execution_count": 18,
     "metadata": {},
     "output_type": "execute_result"
    }
   ],
   "source": [
    "model_tf.fit(explanatory, target, epochs=30, batch_size=5)"
   ]
  },
  {
   "cell_type": "markdown",
   "id": "55eceea6-46b1-45b0-ae87-5fc515ab9e16",
   "metadata": {},
   "source": [
    "### Evaluate Keras Model"
   ]
  },
  {
   "cell_type": "code",
   "execution_count": 27,
   "id": "1d533c06-27fe-4d25-8fdd-e7531378dd3b",
   "metadata": {},
   "outputs": [
    {
     "name": "stdout",
     "output_type": "stream",
     "text": [
      "2/2 [==============================] - 0s 3ms/step - loss: -2873009.5000 - accuracy: 0.0000e+00\n"
     ]
    },
    {
     "data": {
      "text/plain": [
       "[-2873009.5, 0.0]"
      ]
     },
     "execution_count": 27,
     "metadata": {},
     "output_type": "execute_result"
    }
   ],
   "source": [
    "model_tf.evaluate(explanatory, target) "
   ]
  },
  {
   "cell_type": "markdown",
   "id": "b18ad240-7a5b-46ef-82a5-b9ac33a8e37c",
   "metadata": {},
   "source": [
    "### Predictions"
   ]
  },
  {
   "cell_type": "code",
   "execution_count": 28,
   "id": "ebe24ffc-a570-418b-91d5-e633bff6a29a",
   "metadata": {},
   "outputs": [
    {
     "data": {
      "text/plain": [
       "array([[1.],\n",
       "       [1.],\n",
       "       [1.],\n",
       "       [1.],\n",
       "       [1.],\n",
       "       [1.],\n",
       "       [1.],\n",
       "       [1.],\n",
       "       [1.],\n",
       "       [1.],\n",
       "       [1.],\n",
       "       [1.],\n",
       "       [1.],\n",
       "       [1.],\n",
       "       [1.],\n",
       "       [1.],\n",
       "       [1.],\n",
       "       [1.],\n",
       "       [1.],\n",
       "       [1.],\n",
       "       [1.],\n",
       "       [1.],\n",
       "       [1.],\n",
       "       [1.],\n",
       "       [1.],\n",
       "       [1.],\n",
       "       [1.],\n",
       "       [1.],\n",
       "       [1.],\n",
       "       [1.],\n",
       "       [1.],\n",
       "       [1.],\n",
       "       [1.],\n",
       "       [1.],\n",
       "       [1.],\n",
       "       [1.],\n",
       "       [1.],\n",
       "       [1.],\n",
       "       [1.],\n",
       "       [1.],\n",
       "       [1.],\n",
       "       [1.],\n",
       "       [1.],\n",
       "       [1.],\n",
       "       [1.],\n",
       "       [1.],\n",
       "       [1.],\n",
       "       [1.],\n",
       "       [1.],\n",
       "       [1.],\n",
       "       [1.]], dtype=float32)"
      ]
     },
     "execution_count": 28,
     "metadata": {},
     "output_type": "execute_result"
    }
   ],
   "source": [
    "model_tf.predict(explanatory)"
   ]
  }
 ],
 "metadata": {
  "kernelspec": {
   "display_name": "Python 3 (ipykernel)",
   "language": "python",
   "name": "python3"
  },
  "language_info": {
   "codemirror_mode": {
    "name": "ipython",
    "version": 3
   },
   "file_extension": ".py",
   "mimetype": "text/x-python",
   "name": "python",
   "nbconvert_exporter": "python",
   "pygments_lexer": "ipython3",
   "version": "3.9.12"
  }
 },
 "nbformat": 4,
 "nbformat_minor": 5
}
