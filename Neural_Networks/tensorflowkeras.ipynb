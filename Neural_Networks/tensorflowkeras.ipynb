{
 "cells": [
  {
   "cell_type": "markdown",
   "id": "8d6d9399-ee59-486b-a02b-68c5202737dd",
   "metadata": {
    "tags": []
   },
   "source": [
    "## Create a Neural Network"
   ]
  },
  {
   "cell_type": "markdown",
   "id": "3eec963e-ae95-4b96-95a4-1e6a9ae890a3",
   "metadata": {},
   "source": [
    "### Load the data"
   ]
  },
  {
   "cell_type": "code",
   "execution_count": 1,
   "id": "ee94fa22-fb87-4f7f-bcab-f895eb1dba20",
   "metadata": {},
   "outputs": [],
   "source": [
    "import seaborn as sns\n",
    "df_crashes = sns.load_dataset('car_crashes')"
   ]
  },
  {
   "cell_type": "code",
   "execution_count": 2,
   "id": "9ae18dd1-3ef4-4c6d-8b5d-751a543d5b26",
   "metadata": {},
   "outputs": [
    {
     "data": {
      "text/html": [
       "<div>\n",
       "<style scoped>\n",
       "    .dataframe tbody tr th:only-of-type {\n",
       "        vertical-align: middle;\n",
       "    }\n",
       "\n",
       "    .dataframe tbody tr th {\n",
       "        vertical-align: top;\n",
       "    }\n",
       "\n",
       "    .dataframe thead th {\n",
       "        text-align: right;\n",
       "    }\n",
       "</style>\n",
       "<table border=\"1\" class=\"dataframe\">\n",
       "  <thead>\n",
       "    <tr style=\"text-align: right;\">\n",
       "      <th></th>\n",
       "      <th>total</th>\n",
       "      <th>speeding</th>\n",
       "      <th>alcohol</th>\n",
       "      <th>not_distracted</th>\n",
       "      <th>no_previous</th>\n",
       "      <th>ins_premium</th>\n",
       "      <th>ins_losses</th>\n",
       "      <th>abbrev</th>\n",
       "    </tr>\n",
       "  </thead>\n",
       "  <tbody>\n",
       "    <tr>\n",
       "      <th>0</th>\n",
       "      <td>18.8</td>\n",
       "      <td>7.332</td>\n",
       "      <td>5.640</td>\n",
       "      <td>18.048</td>\n",
       "      <td>15.040</td>\n",
       "      <td>784.55</td>\n",
       "      <td>145.08</td>\n",
       "      <td>AL</td>\n",
       "    </tr>\n",
       "    <tr>\n",
       "      <th>1</th>\n",
       "      <td>18.1</td>\n",
       "      <td>7.421</td>\n",
       "      <td>4.525</td>\n",
       "      <td>16.290</td>\n",
       "      <td>17.014</td>\n",
       "      <td>1053.48</td>\n",
       "      <td>133.93</td>\n",
       "      <td>AK</td>\n",
       "    </tr>\n",
       "    <tr>\n",
       "      <th>2</th>\n",
       "      <td>18.6</td>\n",
       "      <td>6.510</td>\n",
       "      <td>5.208</td>\n",
       "      <td>15.624</td>\n",
       "      <td>17.856</td>\n",
       "      <td>899.47</td>\n",
       "      <td>110.35</td>\n",
       "      <td>AZ</td>\n",
       "    </tr>\n",
       "    <tr>\n",
       "      <th>3</th>\n",
       "      <td>22.4</td>\n",
       "      <td>4.032</td>\n",
       "      <td>5.824</td>\n",
       "      <td>21.056</td>\n",
       "      <td>21.280</td>\n",
       "      <td>827.34</td>\n",
       "      <td>142.39</td>\n",
       "      <td>AR</td>\n",
       "    </tr>\n",
       "    <tr>\n",
       "      <th>4</th>\n",
       "      <td>12.0</td>\n",
       "      <td>4.200</td>\n",
       "      <td>3.360</td>\n",
       "      <td>10.920</td>\n",
       "      <td>10.680</td>\n",
       "      <td>878.41</td>\n",
       "      <td>165.63</td>\n",
       "      <td>CA</td>\n",
       "    </tr>\n",
       "  </tbody>\n",
       "</table>\n",
       "</div>"
      ],
      "text/plain": [
       "   total  speeding  alcohol  not_distracted  no_previous  ins_premium  \\\n",
       "0   18.8     7.332    5.640          18.048       15.040       784.55   \n",
       "1   18.1     7.421    4.525          16.290       17.014      1053.48   \n",
       "2   18.6     6.510    5.208          15.624       17.856       899.47   \n",
       "3   22.4     4.032    5.824          21.056       21.280       827.34   \n",
       "4   12.0     4.200    3.360          10.920       10.680       878.41   \n",
       "\n",
       "   ins_losses abbrev  \n",
       "0      145.08     AL  \n",
       "1      133.93     AK  \n",
       "2      110.35     AZ  \n",
       "3      142.39     AR  \n",
       "4      165.63     CA  "
      ]
     },
     "execution_count": 2,
     "metadata": {},
     "output_type": "execute_result"
    }
   ],
   "source": [
    "df_crashes.head()"
   ]
  },
  {
   "cell_type": "markdown",
   "id": "7f1357c7-0525-4b83-9a06-8b745e765ab5",
   "metadata": {},
   "source": [
    "### Feature Processing"
   ]
  },
  {
   "cell_type": "code",
   "execution_count": 3,
   "id": "42200056-8c65-4415-a0ed-df9e730cd5df",
   "metadata": {},
   "outputs": [
    {
     "data": {
      "text/html": [
       "<div>\n",
       "<style scoped>\n",
       "    .dataframe tbody tr th:only-of-type {\n",
       "        vertical-align: middle;\n",
       "    }\n",
       "\n",
       "    .dataframe tbody tr th {\n",
       "        vertical-align: top;\n",
       "    }\n",
       "\n",
       "    .dataframe thead th {\n",
       "        text-align: right;\n",
       "    }\n",
       "</style>\n",
       "<table border=\"1\" class=\"dataframe\">\n",
       "  <thead>\n",
       "    <tr style=\"text-align: right;\">\n",
       "      <th></th>\n",
       "      <th>speeding</th>\n",
       "      <th>alcohol</th>\n",
       "      <th>not_distracted</th>\n",
       "      <th>no_previous</th>\n",
       "      <th>ins_premium</th>\n",
       "      <th>ins_losses</th>\n",
       "    </tr>\n",
       "  </thead>\n",
       "  <tbody>\n",
       "    <tr>\n",
       "      <th>0</th>\n",
       "      <td>7.332</td>\n",
       "      <td>5.640</td>\n",
       "      <td>18.048</td>\n",
       "      <td>15.040</td>\n",
       "      <td>784.55</td>\n",
       "      <td>145.08</td>\n",
       "    </tr>\n",
       "    <tr>\n",
       "      <th>1</th>\n",
       "      <td>7.421</td>\n",
       "      <td>4.525</td>\n",
       "      <td>16.290</td>\n",
       "      <td>17.014</td>\n",
       "      <td>1053.48</td>\n",
       "      <td>133.93</td>\n",
       "    </tr>\n",
       "    <tr>\n",
       "      <th>2</th>\n",
       "      <td>6.510</td>\n",
       "      <td>5.208</td>\n",
       "      <td>15.624</td>\n",
       "      <td>17.856</td>\n",
       "      <td>899.47</td>\n",
       "      <td>110.35</td>\n",
       "    </tr>\n",
       "    <tr>\n",
       "      <th>3</th>\n",
       "      <td>4.032</td>\n",
       "      <td>5.824</td>\n",
       "      <td>21.056</td>\n",
       "      <td>21.280</td>\n",
       "      <td>827.34</td>\n",
       "      <td>142.39</td>\n",
       "    </tr>\n",
       "    <tr>\n",
       "      <th>4</th>\n",
       "      <td>4.200</td>\n",
       "      <td>3.360</td>\n",
       "      <td>10.920</td>\n",
       "      <td>10.680</td>\n",
       "      <td>878.41</td>\n",
       "      <td>165.63</td>\n",
       "    </tr>\n",
       "  </tbody>\n",
       "</table>\n",
       "</div>"
      ],
      "text/plain": [
       "   speeding  alcohol  not_distracted  no_previous  ins_premium  ins_losses\n",
       "0     7.332    5.640          18.048       15.040       784.55      145.08\n",
       "1     7.421    4.525          16.290       17.014      1053.48      133.93\n",
       "2     6.510    5.208          15.624       17.856       899.47      110.35\n",
       "3     4.032    5.824          21.056       21.280       827.34      142.39\n",
       "4     4.200    3.360          10.920       10.680       878.41      165.63"
      ]
     },
     "execution_count": 3,
     "metadata": {},
     "output_type": "execute_result"
    }
   ],
   "source": [
    "explanatory = df_crashes.drop(columns=['total','abbrev'])\n",
    "target = df_crashes.total\n",
    "explanatory.head()"
   ]
  },
  {
   "cell_type": "markdown",
   "id": "8c92c0ba-8c91-4e80-8a56-7669b292921e",
   "metadata": {},
   "source": [
    "### Create a Model\n",
    "\n",
    "1. Import libraries\n",
    "2. Instantiate\n",
    "3. Add layers & Compile\n",
    "4. Fit\n",
    "5. Evaluate\n",
    "6. Predictions"
   ]
  },
  {
   "cell_type": "code",
   "execution_count": 4,
   "id": "190bee0d-15ba-445b-9b22-ff80ffae7603",
   "metadata": {},
   "outputs": [],
   "source": [
    "from tensorflow.keras import Sequential\n",
    "from tensorflow.keras.layers import Dense"
   ]
  },
  {
   "cell_type": "code",
   "execution_count": 5,
   "id": "724dbfd0-8d52-4851-8f52-d0110ab9b8e9",
   "metadata": {},
   "outputs": [],
   "source": [
    "model_tf = Sequential()"
   ]
  },
  {
   "cell_type": "code",
   "execution_count": 6,
   "id": "735867f6-0488-40fd-8c50-a7ab040b14f2",
   "metadata": {},
   "outputs": [],
   "source": [
    "model_tf.add(Dense(12, input_shape=(6,), activation='relu'))\n",
    "model_tf.add(Dense(8, activation='linear'))\n",
    "model_tf.add(Dense(1, activation='linear'))"
   ]
  },
  {
   "cell_type": "markdown",
   "id": "0a193697-2ec4-4d9b-9646-10e91ae77df7",
   "metadata": {},
   "source": [
    "### Compile keras model"
   ]
  },
  {
   "cell_type": "code",
   "execution_count": 7,
   "id": "74766c6f-8b8a-480b-862d-1371f4483731",
   "metadata": {},
   "outputs": [],
   "source": [
    "model_tf.compile(\n",
    "    optimizer='adam',\n",
    "    loss='mse',\n",
    "    metrics=['accuracy'])"
   ]
  },
  {
   "cell_type": "markdown",
   "id": "80890f5e-393d-4e00-b9ca-0253c6239c88",
   "metadata": {},
   "source": [
    "### Fit the model    "
   ]
  },
  {
   "cell_type": "code",
   "execution_count": 8,
   "id": "d86feab3-edc4-4577-a993-957dbee8b479",
   "metadata": {},
   "outputs": [
    {
     "name": "stdout",
     "output_type": "stream",
     "text": [
      "Epoch 1/50\n",
      "6/6 [==============================] - 0s 2ms/step - loss: 2559.6746 - accuracy: 0.0000e+00\n",
      "Epoch 2/50\n",
      "6/6 [==============================] - 0s 2ms/step - loss: 111.3466 - accuracy: 0.0000e+00\n",
      "Epoch 3/50\n",
      "6/6 [==============================] - 0s 2ms/step - loss: 445.8343 - accuracy: 0.0000e+00\n",
      "Epoch 4/50\n",
      "6/6 [==============================] - 0s 2ms/step - loss: 251.3794 - accuracy: 0.0000e+00\n",
      "Epoch 5/50\n",
      "6/6 [==============================] - 0s 2ms/step - loss: 29.0258 - accuracy: 0.0000e+00\n",
      "Epoch 6/50\n",
      "6/6 [==============================] - 0s 2ms/step - loss: 95.1813 - accuracy: 0.0000e+00\n",
      "Epoch 7/50\n",
      "6/6 [==============================] - 0s 2ms/step - loss: 43.2327 - accuracy: 0.0000e+00\n",
      "Epoch 8/50\n",
      "6/6 [==============================] - 0s 2ms/step - loss: 25.6497 - accuracy: 0.0000e+00\n",
      "Epoch 9/50\n",
      "6/6 [==============================] - 0s 2ms/step - loss: 36.2121 - accuracy: 0.0000e+00\n",
      "Epoch 10/50\n",
      "6/6 [==============================] - 0s 2ms/step - loss: 20.4015 - accuracy: 0.0000e+00\n",
      "Epoch 11/50\n",
      "6/6 [==============================] - 0s 2ms/step - loss: 20.4075 - accuracy: 0.0000e+00\n",
      "Epoch 12/50\n",
      "6/6 [==============================] - 0s 2ms/step - loss: 19.2953 - accuracy: 0.0000e+00\n",
      "Epoch 13/50\n",
      "6/6 [==============================] - 0s 2ms/step - loss: 18.3869 - accuracy: 0.0000e+00\n",
      "Epoch 14/50\n",
      "6/6 [==============================] - 0s 2ms/step - loss: 18.0831 - accuracy: 0.0000e+00\n",
      "Epoch 15/50\n",
      "6/6 [==============================] - 0s 2ms/step - loss: 18.9665 - accuracy: 0.0000e+00\n",
      "Epoch 16/50\n",
      "6/6 [==============================] - 0s 2ms/step - loss: 18.2009 - accuracy: 0.0000e+00\n",
      "Epoch 17/50\n",
      "6/6 [==============================] - 0s 2ms/step - loss: 17.8956 - accuracy: 0.0000e+00\n",
      "Epoch 18/50\n",
      "6/6 [==============================] - 0s 3ms/step - loss: 21.1637 - accuracy: 0.0000e+00\n",
      "Epoch 19/50\n",
      "6/6 [==============================] - 0s 2ms/step - loss: 18.1400 - accuracy: 0.0000e+00\n",
      "Epoch 20/50\n",
      "6/6 [==============================] - 0s 2ms/step - loss: 19.0332 - accuracy: 0.0000e+00\n",
      "Epoch 21/50\n",
      "6/6 [==============================] - 0s 2ms/step - loss: 18.4546 - accuracy: 0.0000e+00\n",
      "Epoch 22/50\n",
      "6/6 [==============================] - 0s 2ms/step - loss: 19.9757 - accuracy: 0.0000e+00\n",
      "Epoch 23/50\n",
      "6/6 [==============================] - 0s 2ms/step - loss: 20.3084 - accuracy: 0.0000e+00\n",
      "Epoch 24/50\n",
      "6/6 [==============================] - 0s 2ms/step - loss: 22.6293 - accuracy: 0.0000e+00\n",
      "Epoch 25/50\n",
      "6/6 [==============================] - 0s 2ms/step - loss: 18.5504 - accuracy: 0.0000e+00\n",
      "Epoch 26/50\n",
      "6/6 [==============================] - 0s 2ms/step - loss: 17.5344 - accuracy: 0.0000e+00\n",
      "Epoch 27/50\n",
      "6/6 [==============================] - 0s 2ms/step - loss: 17.3130 - accuracy: 0.0000e+00\n",
      "Epoch 28/50\n",
      "6/6 [==============================] - 0s 2ms/step - loss: 18.6792 - accuracy: 0.0000e+00\n",
      "Epoch 29/50\n",
      "6/6 [==============================] - 0s 2ms/step - loss: 17.3190 - accuracy: 0.0000e+00\n",
      "Epoch 30/50\n",
      "6/6 [==============================] - 0s 2ms/step - loss: 18.3719 - accuracy: 0.0000e+00\n",
      "Epoch 31/50\n",
      "6/6 [==============================] - 0s 2ms/step - loss: 18.2075 - accuracy: 0.0000e+00\n",
      "Epoch 32/50\n",
      "6/6 [==============================] - 0s 2ms/step - loss: 18.1955 - accuracy: 0.0000e+00\n",
      "Epoch 33/50\n",
      "6/6 [==============================] - 0s 2ms/step - loss: 18.6370 - accuracy: 0.0000e+00\n",
      "Epoch 34/50\n",
      "6/6 [==============================] - 0s 2ms/step - loss: 16.7659 - accuracy: 0.0000e+00\n",
      "Epoch 35/50\n",
      "6/6 [==============================] - 0s 2ms/step - loss: 17.6123 - accuracy: 0.0000e+00\n",
      "Epoch 36/50\n",
      "6/6 [==============================] - 0s 3ms/step - loss: 17.0464 - accuracy: 0.0000e+00\n",
      "Epoch 37/50\n",
      "6/6 [==============================] - 0s 3ms/step - loss: 22.0491 - accuracy: 0.0000e+00\n",
      "Epoch 38/50\n",
      "6/6 [==============================] - 0s 3ms/step - loss: 21.0272 - accuracy: 0.0000e+00\n",
      "Epoch 39/50\n",
      "6/6 [==============================] - 0s 2ms/step - loss: 27.1321 - accuracy: 0.0000e+00\n",
      "Epoch 40/50\n",
      "6/6 [==============================] - 0s 2ms/step - loss: 23.4154 - accuracy: 0.0000e+00\n",
      "Epoch 41/50\n",
      "6/6 [==============================] - 0s 2ms/step - loss: 21.5896 - accuracy: 0.0000e+00\n",
      "Epoch 42/50\n",
      "6/6 [==============================] - 0s 2ms/step - loss: 22.2932 - accuracy: 0.0000e+00\n",
      "Epoch 43/50\n",
      "6/6 [==============================] - 0s 2ms/step - loss: 21.2081 - accuracy: 0.0000e+00\n",
      "Epoch 44/50\n",
      "6/6 [==============================] - 0s 3ms/step - loss: 17.6772 - accuracy: 0.0000e+00\n",
      "Epoch 45/50\n",
      "6/6 [==============================] - 0s 2ms/step - loss: 19.4065 - accuracy: 0.0000e+00\n",
      "Epoch 46/50\n",
      "6/6 [==============================] - 0s 2ms/step - loss: 20.3759 - accuracy: 0.0000e+00\n",
      "Epoch 47/50\n",
      "6/6 [==============================] - 0s 2ms/step - loss: 19.8700 - accuracy: 0.0000e+00\n",
      "Epoch 48/50\n",
      "6/6 [==============================] - 0s 2ms/step - loss: 20.4210 - accuracy: 0.0000e+00\n",
      "Epoch 49/50\n",
      "6/6 [==============================] - 0s 2ms/step - loss: 17.5739 - accuracy: 0.0000e+00\n",
      "Epoch 50/50\n",
      "6/6 [==============================] - 0s 2ms/step - loss: 15.9033 - accuracy: 0.0000e+00\n"
     ]
    },
    {
     "data": {
      "text/plain": [
       "<keras.callbacks.History at 0x1fe1b7044f0>"
      ]
     },
     "execution_count": 8,
     "metadata": {},
     "output_type": "execute_result"
    }
   ],
   "source": [
    "model_tf.fit(explanatory, target, epochs=50, batch_size=10)"
   ]
  },
  {
   "cell_type": "markdown",
   "id": "55eceea6-46b1-45b0-ae87-5fc515ab9e16",
   "metadata": {},
   "source": [
    "### Evaluate Keras Model"
   ]
  },
  {
   "cell_type": "code",
   "execution_count": 9,
   "id": "1d533c06-27fe-4d25-8fdd-e7531378dd3b",
   "metadata": {},
   "outputs": [
    {
     "name": "stdout",
     "output_type": "stream",
     "text": [
      "2/2 [==============================] - 0s 6ms/step - loss: 15.4243 - accuracy: 0.0000e+00\n"
     ]
    },
    {
     "data": {
      "text/plain": [
       "[15.424298286437988, 0.0]"
      ]
     },
     "execution_count": 9,
     "metadata": {},
     "output_type": "execute_result"
    }
   ],
   "source": [
    "model_tf.evaluate(explanatory, target) "
   ]
  },
  {
   "cell_type": "markdown",
   "id": "b18ad240-7a5b-46ef-82a5-b9ac33a8e37c",
   "metadata": {},
   "source": [
    "### Predictions"
   ]
  },
  {
   "cell_type": "code",
   "execution_count": 10,
   "id": "ebe24ffc-a570-418b-91d5-e633bff6a29a",
   "metadata": {},
   "outputs": [
    {
     "data": {
      "text/plain": [
       "array([[17.357141 ],\n",
       "       [18.16311  ],\n",
       "       [15.824044 ],\n",
       "       [17.910929 ],\n",
       "       [16.844126 ],\n",
       "       [15.442941 ],\n",
       "       [17.846033 ],\n",
       "       [18.885614 ],\n",
       "       [16.44665  ],\n",
       "       [18.959574 ],\n",
       "       [16.790506 ],\n",
       "       [16.127542 ],\n",
       "       [12.090417 ],\n",
       "       [15.44262  ],\n",
       "       [13.710824 ],\n",
       "       [13.797029 ],\n",
       "       [15.491311 ],\n",
       "       [16.860498 ],\n",
       "       [22.29008  ],\n",
       "       [12.897553 ],\n",
       "       [18.80662  ],\n",
       "       [15.051766 ],\n",
       "       [18.166513 ],\n",
       "       [13.81643  ],\n",
       "       [14.38157  ],\n",
       "       [16.553858 ],\n",
       "       [14.916665 ],\n",
       "       [13.967965 ],\n",
       "       [17.446512 ],\n",
       "       [13.612298 ],\n",
       "       [18.658518 ],\n",
       "       [15.0350275],\n",
       "       [18.304117 ],\n",
       "       [15.411492 ],\n",
       "       [16.290392 ],\n",
       "       [14.858346 ],\n",
       "       [19.602015 ],\n",
       "       [12.94143  ],\n",
       "       [18.64126  ],\n",
       "       [17.527994 ],\n",
       "       [17.916819 ],\n",
       "       [14.42553  ],\n",
       "       [16.924677 ],\n",
       "       [19.345575 ],\n",
       "       [13.548638 ],\n",
       "       [13.653176 ],\n",
       "       [15.409265 ],\n",
       "       [13.835961 ],\n",
       "       [20.386148 ],\n",
       "       [11.565431 ],\n",
       "       [15.406899 ]], dtype=float32)"
      ]
     },
     "execution_count": 10,
     "metadata": {},
     "output_type": "execute_result"
    }
   ],
   "source": [
    "model_tf.predict(explanatory)"
   ]
  },
  {
   "cell_type": "code",
   "execution_count": null,
   "id": "03e8731d-ae5b-4f22-9f98-9525af5de405",
   "metadata": {},
   "outputs": [],
   "source": []
  }
 ],
 "metadata": {
  "kernelspec": {
   "display_name": "Python 3 (ipykernel)",
   "language": "python",
   "name": "python3"
  },
  "language_info": {
   "codemirror_mode": {
    "name": "ipython",
    "version": 3
   },
   "file_extension": ".py",
   "mimetype": "text/x-python",
   "name": "python",
   "nbconvert_exporter": "python",
   "pygments_lexer": "ipython3",
   "version": "3.9.12"
  }
 },
 "nbformat": 4,
 "nbformat_minor": 5
}
